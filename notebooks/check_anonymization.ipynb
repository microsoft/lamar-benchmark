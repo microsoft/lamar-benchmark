{
 "cells": [
  {
   "cell_type": "code",
   "execution_count": 12,
   "id": "59839ec4",
   "metadata": {},
   "outputs": [],
   "source": [
    "from pathlib import Path\n",
    "import matplotlib.pyplot as plt\n",
    "from matplotlib.patches import Rectangle\n",
    "from scantools import run_manual_anonymization\n",
    "from scantools.utils.io import read_image\n",
    "from scantools.viz.image import plot_images\n",
    "\n",
    "from redact.v3.data_models import JobLabels\n",
    "from scantools.proc.anonymization import BrighterAIAnonymizer\n",
    "anon = BrighterAIAnonymizer('dummy')\n",
    "image_shape = (1920, 1440, 3)\n",
    "\n",
    "def detection_is_big(face, image_shape):\n",
    "    mx, my, Mx, My = face.bounding_box\n",
    "    area_ratio = (Mx - mx + 1) * (My - my + 1) / (image_shape[0] * image_shape[1])\n",
    "    return face.score >= 0.40 and area_ratio > 0.04\n",
    "\n",
    "def plot_anon(path, faces, show_all=False):\n",
    "    image = read_image(path)\n",
    "    plot_images([image])\n",
    "    for face in faces:\n",
    "        is_valid = anon.face_is_valid(face, image.shape)\n",
    "        if not show_all and not is_valid:\n",
    "            continue\n",
    "        mx, my, Mx, My = face.bounding_box\n",
    "        w = Mx - mx\n",
    "        h = My - my\n",
    "        if face.score is None:\n",
    "            color = 'blue'\n",
    "        elif is_valid:\n",
    "            color = 'lime'\n",
    "        else:\n",
    "            color = 'red'\n",
    "        plt.gca().add_patch(Rectangle((mx, my), w, h, fc='none', ec=color))\n",
    "        if face.score is not None:\n",
    "            plt.text(mx, my-5, f'{face.score*100:.0f}%', c=color, fontsize=9)\n",
    "    \n",
    "import collections    \n",
    "def get_counts(root, session_id=None, prefix=None):\n",
    "    if session_id is None:\n",
    "        seqs = [p.name for p in (root / 'sessions').iterdir()]\n",
    "    else:\n",
    "        seqs = (root/'sessions'/session_id/'proc/subsessions.txt').read_text().split('\\n')\n",
    "    counter = collections.Counter()\n",
    "    for seq in seqs:\n",
    "        if prefix is not None and not seq.startswith(prefix):\n",
    "            continue\n",
    "        d = root / 'anonymization'\n",
    "        if session_id is not None:\n",
    "            d = d / session_id\n",
    "        for p in (d / seq).glob('**/labels.json'):\n",
    "            labels = JobLabels.parse_file(p)\n",
    "            counter[seq] += sum(anon.face_is_valid(ff, image_shape) for f in labels.frames for ff in f.faces)\n",
    "    return sorted(counter.items(), key=lambda x: -x[1])"
   ]
  },
  {
   "cell_type": "code",
   "execution_count": 2,
   "id": "2e6a9ee4",
   "metadata": {
    "scrolled": true
   },
   "outputs": [
    {
     "data": {
      "text/plain": [
       "[('ios_2022-06-20_15.30.34', 5382)]"
      ]
     },
     "execution_count": 2,
     "metadata": {},
     "output_type": "execute_result"
    }
   ],
   "source": [
    "# Find sequences with many detected faces\n",
    "scene = 'LIN'\n",
    "root = Path('/media/SSD2/lamar/captures/release/', scene)\n",
    "get_counts(root)"
   ]
  },
  {
   "cell_type": "code",
   "execution_count": null,
   "id": "5cdd4593",
   "metadata": {},
   "outputs": [],
   "source": [
    "# CAB\n",
    "session_id = 'ios_2022-01-12_16.27.04'\n",
    "session_id = 'ios_2022-01-20_14.30.40'\n",
    "\n",
    "# LIN\n",
    "session_id = 'ios_2022-06-20_15.30.34'\n",
    "\n",
    "image_paths = []\n",
    "face_labels = []\n",
    "anon_dir = 'anonymization'  # or 'anonymization_sequential'\n",
    "for p in (root / anon_dir / session_id).glob('**/labels.json'):\n",
    "    ipaths = (p.parent/'list.txt').read_text().split('\\n')\n",
    "    image_paths.extend(ipaths)\n",
    "    labels = JobLabels.parse_file(p)\n",
    "    face_labels.extend([frame.faces for frame in labels.frames])\n",
    "    assert len(ipaths) == len(labels.frames)\n",
    "# indices = [i for i, faces in enumerate(face_labels) if faces]\n",
    "# indices = [i for i, faces in enumerate(face_labels) if any(anon.face_is_valid(f, image_shape) for f in faces)]\n",
    "indices = [i for i, faces in enumerate(face_labels) if any(detection_is_big(f, image_shape) for f in faces)]\n",
    "image_paths = [image_paths[i] for i in indices]\n",
    "face_labels = [face_labels[i] for i in indices]\n",
    "print(len(indices))\n",
    "\n",
    "start = 0  # update\n",
    "skip = 1  # update\n",
    "num = 0\n",
    "for subpath, faces in zip(image_paths[start::skip], face_labels[start::skip]):\n",
    "    if not faces:\n",
    "        continue\n",
    "    impath = root / 'sessions' / session_id / 'raw_data' / subpath\n",
    "    plot_anon(impath, faces, show_all=True)\n",
    "    plt.gca().set_title(session_id+'/'+Path(subpath).stem, fontsize=9)\n",
    "    plt.show()\n",
    "    num += 1\n",
    "    if num >= 70:  # update\n",
    "        break"
   ]
  },
  {
   "cell_type": "markdown",
   "id": "6f99fcc0",
   "metadata": {},
   "source": [
    "# Find sequences with many faces in previous annotations"
   ]
  },
  {
   "cell_type": "code",
   "execution_count": 37,
   "id": "595679b3",
   "metadata": {
    "scrolled": false
   },
   "outputs": [
    {
     "data": {
      "text/plain": [
       "[('ios_2022-07-03_14.07.18_001', 371),\n",
       " ('ios_2022-01-20_14.30.40_000', 125),\n",
       " ('ios_2022-01-20_14.51.09_000', 80),\n",
       " ('ios_2022-06-22_13.33.34_002', 64),\n",
       " ('ios_2022-01-20_15.01.57_000', 56),\n",
       " ('ios_2022-06-20_16.02.21_001', 47),\n",
       " ('ios_2021-06-02_14.21.49_000', 46),\n",
       " ('ios_2021-06-02_15.00.23_005', 34),\n",
       " ('ios_2021-06-02_15.00.23_000', 26),\n",
       " ('ios_2022-01-12_15.50.47_001', 24),\n",
       " ('ios_2022-02-27_17.56.28_000', 21),\n",
       " ('ios_2021-06-02_15.00.23_001', 16),\n",
       " ('ios_2022-07-03_13.26.22_001', 13),\n",
       " ('ios_2022-01-20_16.13.52_000', 9),\n",
       " ('ios_2022-06-20_18.27.53_000', 8),\n",
       " ('ios_2021-06-03_12.16.58_000', 5),\n",
       " ('ios_2021-06-02_14.48.13_000', 2),\n",
       " ('ios_2022-06-20_16.07.07_002', 2),\n",
       " ('ios_2022-02-27_17.44.49_000', 1),\n",
       " ('ios_2021-06-02_15.00.23_004', 0),\n",
       " ('ios_2022-06-22_13.33.34_000', 0)]"
      ]
     },
     "execution_count": 37,
     "metadata": {},
     "output_type": "execute_result"
    }
   ],
   "source": [
    "root2 = Path('/media/SSD2/lamar/captures/release_eval/', scene)\n",
    "session_id = 'map_min'\n",
    "get_counts(root2, session_id, 'ios_')"
   ]
  },
  {
   "cell_type": "markdown",
   "id": "356d5d07",
   "metadata": {},
   "source": [
    "# Check previous annotations"
   ]
  },
  {
   "cell_type": "code",
   "execution_count": null,
   "id": "d8bb6943",
   "metadata": {},
   "outputs": [],
   "source": [
    "root2 = Path('/media/SSD2/lamar/captures/release_eval/', scene)\n",
    "session_id = 'map_min'\n",
    "seq_id = 'ios_2022-01-20_14.30.40_000'\n",
    "\n",
    "# LIN\n",
    "seq_id = 'ios_2022-06-20_15.30.34_000'\n",
    "seq_id = 'ios_2022-06-25_20.28.02_000'\n",
    "\n",
    "image_paths = []\n",
    "face_labels = []\n",
    "for p in (root2 / 'anonymization' / session_id).glob('**/labels.json'):\n",
    "    ipaths = (p.parent/'list.txt').read_text().split('\\n')\n",
    "    ipaths = [i[6:-1] for i in ipaths if i]\n",
    "    image_paths.extend(ipaths)\n",
    "    labels = JobLabels.parse_file(p)\n",
    "    face_labels.extend([frame.faces for frame in labels.frames])\n",
    "    assert len(ipaths) == len(labels.frames)\n",
    "    assert len(image_paths) == len(face_labels)\n",
    "indices = [i for i, faces in enumerate(face_labels) if any(anon.face_is_valid(f, image_shape) for f in faces)]\n",
    "indices = [i for i in indices if seq_id in image_paths[i]]\n",
    "image_paths = [image_paths[i] for i in indices]\n",
    "face_labels = [face_labels[i] for i in indices]\n",
    "print(len(image_paths))\n",
    "\n",
    "num = 0\n",
    "start = 200\n",
    "skip = 2\n",
    "for impath, faces in zip(image_paths[start::skip], face_labels[start::skip]):\n",
    "    if not faces:\n",
    "        continue\n",
    "    plot_anon(impath.replace('ms_eth_dataset/datasets', 'lamar'), faces)\n",
    "    plt.show()\n",
    "    num += 1\n",
    "    if num >= 50:\n",
    "        break"
   ]
  }
 ],
 "metadata": {
  "kernelspec": {
   "display_name": "Python 3 (ipykernel)",
   "language": "python",
   "name": "python3"
  },
  "language_info": {
   "codemirror_mode": {
    "name": "ipython",
    "version": 3
   },
   "file_extension": ".py",
   "mimetype": "text/x-python",
   "name": "python",
   "nbconvert_exporter": "python",
   "pygments_lexer": "ipython3",
   "version": "3.8.5"
  }
 },
 "nbformat": 4,
 "nbformat_minor": 5
}
